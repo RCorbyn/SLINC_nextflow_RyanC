{
 "cells": [
  {
   "cell_type": "markdown",
   "id": "f4412250-5614-4304-b558-d51a3bb9bcec",
   "metadata": {},
   "source": [
    "# Rotate Text in image\n",
    "\n",
    "The images from the slide scanner are rarely in an orientation where the text runs horizontally across the page. This is a script that aims to rotate the images to correct for this. "
   ]
  },
  {
   "cell_type": "markdown",
   "id": "e5301147-a746-431d-a6b6-6344f85101d3",
   "metadata": {},
   "source": [
    "--- \n",
    "### Import dependancies"
   ]
  },
  {
   "cell_type": "code",
   "execution_count": 1,
   "id": "921b004a-adf5-407a-8477-4f9884d4ef19",
   "metadata": {},
   "outputs": [],
   "source": [
    "import pytesseract as pytess\n",
    "import numpy as np \n",
    "import skimage \n",
    "import scipy \n",
    "# import aicsimageio\n",
    "import os \n",
    "import tifffile as tf\n",
    "from PIL import Image\n",
    "import tkinter as tk \n",
    "import pandas as pd\n",
    "import matplotlib.pyplot as plt\n",
    "from tkinter import filedialog\n",
    "import napari"
   ]
  },
  {
   "cell_type": "markdown",
   "id": "f46942ee-5c7f-431c-a3ad-ebbf4fab2b6a",
   "metadata": {},
   "source": [
    "----\n",
    "### Find four couners of the image"
   ]
  },
  {
   "cell_type": "code",
   "execution_count": 63,
   "id": "17ff760e-0651-4340-abcd-edafbf02e47e",
   "metadata": {},
   "outputs": [],
   "source": [
    "def corners_of_text(ordered):\n",
    "    ''' '''\n",
    "    # Initalise\n",
    "    left_col = ordered[ordered['centroid-1'] < ordered['centroid-1'].min() + 25] \n",
    "    top_row = ordered[ordered['centroid-0'] < ordered['centroid-0'].min() + 25]\n",
    "    bottom_row = ordered[ordered['centroid-1'] > ordered['centroid-1'].max() - 25]\n",
    "    # Top left\n",
    "    tl = left_col[left_col['centroid-0'] == left_col['centroid-0'].min()]\n",
    "    # Bottom left\n",
    "    bl = left_col[left_col['centroid-0'] == left_col['centroid-0'].max()]\n",
    "    # Top Right\n",
    "    tr = top_row[top_row['centroid-1'] == top_row['centroid-1'].max()]\n",
    "    # Bottom Right\n",
    "    br = bottom_row[bottom_row['centroid-0'] == bottom_row['centroid-0'].max()]\n",
    "    # Put all the for points in the array. \n",
    "    four_corners = [np.array([tl['centroid-0'].iloc[0], tl['centroid-1'].iloc[0]]),\n",
    "                    np.array([tr['centroid-0'].iloc[0], tr['centroid-1'].iloc[0]]), \n",
    "                    np.array([bl['centroid-0'].iloc[0], bl['centroid-1'].iloc[0]]), \n",
    "                    np.array([br['centroid-0'].iloc[0], br['centroid-1'].iloc[0]]) ]\n",
    "    \n",
    "    return(np.array(four_corners))"
   ]
  },
  {
   "cell_type": "markdown",
   "id": "b491ea16-18b8-4913-9699-4043b3666481",
   "metadata": {},
   "source": [
    "----\n",
    "### Calculate Angle"
   ]
  },
  {
   "cell_type": "code",
   "execution_count": 52,
   "id": "51939bf1-e5e5-4f49-84a6-b18b79778407",
   "metadata": {},
   "outputs": [],
   "source": [
    "def angle_calc(four_corners): \n",
    "    ''' ''' \n",
    "    print()\n",
    "        \n",
    "    # delta x \n",
    "    delta_x = four_corners[2][0] - four_corners[0][0]\n",
    "    delta_y = four_corners[2][1] - four_corners[0][1]\n",
    "\n",
    "    # angle \n",
    "    angle = 180 * ( np.arctan(delta_x / delta_y) / np.pi)\n",
    "\n",
    "    return(angle)"
   ]
  },
  {
   "cell_type": "markdown",
   "id": "c0d0662e-e348-4415-a115-d93ec448cb26",
   "metadata": {},
   "source": [
    "----\n",
    "### Get text from image\n"
   ]
  },
  {
   "cell_type": "code",
   "execution_count": 4,
   "id": "4cd7a897-871b-4499-a0fa-46104ccbea74",
   "metadata": {},
   "outputs": [],
   "source": [
    "def read_text_from_im(image): \n",
    "    ''' '''\n",
    "    # Perform OCR. \n",
    "    text = pytess.image_to_string(image)\n",
    "    # Clean up the text from the OCR. \n",
    "    text = text.replace( chr(10), '_' )\n",
    "    text = text.replace( ' ' , '_' )\n",
    "    text = text.replace( '/', '_' )\n",
    "    text = text.replace('=', '')\n",
    "    text = text.replace('?', '2')\n",
    "\n",
    "    return(text)"
   ]
  },
  {
   "cell_type": "markdown",
   "id": "40931c6e-726c-4aad-95cf-030fc1d0f874",
   "metadata": {},
   "source": [
    "-----\n",
    "### Find image letters"
   ]
  },
  {
   "cell_type": "code",
   "execution_count": 5,
   "id": "443d7433-1fe3-4fe3-8098-f2a34ee04efe",
   "metadata": {},
   "outputs": [],
   "source": [
    "def get_letters_and_locs(label_im): \n",
    "    ''' '''\n",
    "    # Initalise \n",
    "    props = {'label', 'area', 'centroid'}\n",
    "    # \n",
    "    label = skimage.measure.label(image_data)\n",
    "    # Find the properties of the letters. \n",
    "    label_props = pd.DataFrame( skimage.measure.regionprops_table(label, properties = props) )\n",
    "    # Ignore the labels with an area smaller than 250 pixels.\n",
    "    label_props = label_props[ label_props['area'] > 250 ]\n",
    "\n",
    "    return(label, label_props)"
   ]
  },
  {
   "cell_type": "markdown",
   "id": "0f29eb2a-9d6a-4b18-8c32-27ab5324fb87",
   "metadata": {},
   "source": [
    "---\n",
    "### Get images folder"
   ]
  },
  {
   "cell_type": "code",
   "execution_count": 106,
   "id": "f169ab6e-3c2d-4a88-8270-eecb34f26c28",
   "metadata": {},
   "outputs": [
    {
     "name": "stdout",
     "output_type": "stream",
     "text": [
      "28\n"
     ]
    },
    {
     "data": {
      "text/plain": [
       "'N:/RCORBYN/User_Data/Current_Projects/20250703_Danis/MCL1/Labels'"
      ]
     },
     "execution_count": 106,
     "metadata": {},
     "output_type": "execute_result"
    }
   ],
   "source": [
    "# # # Creates dialogue to ask directory\n",
    "# # # Get the folder containing the image stack. \n",
    "root = tk.Tk()\n",
    "root.attributes('-topmost', True)\n",
    "root.withdraw() # Stops a second window opening\n",
    "folder = filedialog.askdirectory(title = 'Select Stack file')\n",
    "\n",
    "all_files = os.listdir(folder) \n",
    "\n",
    "files = []\n",
    "for i in range( len(all_files) ):\n",
    "    if all_files[i][-4:] == '.png': \n",
    "        files.append(all_files[i])\n",
    "\n",
    "print(len(files))\n",
    "folder"
   ]
  },
  {
   "cell_type": "markdown",
   "id": "44f8c9f4-88de-41d5-b950-cfab7fa5c413",
   "metadata": {},
   "source": [
    "---------\n",
    "### Get SVS file folder"
   ]
  },
  {
   "cell_type": "code",
   "execution_count": 107,
   "id": "f3805c9e-ee8a-48d9-a710-94456580b85f",
   "metadata": {},
   "outputs": [
    {
     "name": "stdout",
     "output_type": "stream",
     "text": [
      "N:/RCORBYN/User_Data/Current_Projects/20250703_Danis/Slide_Ims/\n",
      "N:/RCORBYN/User_Data/Current_Projects/20250703_Danis/Slide_Ims/MCL1/\n"
     ]
    }
   ],
   "source": [
    "# Get into the slides folder\n",
    "slides_folder = os.path.dirname(\n",
    "            os.path.dirname( folder ) ) + '/Slide_Ims/'\n",
    "print(slides_folder)\n",
    "# List folders \n",
    "experiment_folders = os.listdir(slides_folder)\n",
    "# Get the current working folder\n",
    "current_folder = os.path.basename(\n",
    "                os.path.dirname(folder) )\n",
    "# SVS folder \n",
    "svs_folder = slides_folder + current_folder + '/'\n",
    "# SVS files\n",
    "svs_files = os.listdir(svs_folder)\n",
    "print(svs_folder)"
   ]
  },
  {
   "cell_type": "markdown",
   "id": "d1de0bc2-a0c2-4919-903f-8a0d6d6a1918",
   "metadata": {},
   "source": [
    "----\n",
    "# Get image data"
   ]
  },
  {
   "cell_type": "code",
   "execution_count": 108,
   "id": "20a1c6c5-c5a9-47d5-85f3-6e2bfa20cb1b",
   "metadata": {
    "scrolled": true
   },
   "outputs": [
    {
     "name": "stdout",
     "output_type": "stream",
     "text": [
      "\n",
      "R09_DT_060625_MCL-004\n",
      "N:/RCORBYN/User_Data/Current_Projects/20250703_Danis/Slide_Ims/MCL1/R09_DT_060625_MCL-004.svs\n",
      "N:/RCORBYN/User_Data/Current_Projects/20250703_Danis/Slide_Ims/MCL1/MCL_1_LIV__RBCMT_RMH137_2d_23I2045__SM_ROS_25x_522.svs\n",
      "\n",
      "R09_DT_060625_MCL-002\n",
      "N:/RCORBYN/User_Data/Current_Projects/20250703_Danis/Slide_Ims/MCL1/R09_DT_060625_MCL-002.svs\n",
      "N:/RCORBYN/User_Data/Current_Projects/20250703_Danis/Slide_Ims/MCL1/MCL_1_LIV_RBCMT__RMH126_5a_2312644_SM_ROS_225x_522.svs\n",
      "\n",
      "R09_DT_060625_MCL-009\n",
      "N:/RCORBYN/User_Data/Current_Projects/20250703_Danis/Slide_Ims/MCL1/R09_DT_060625_MCL-009.svs\n",
      "N:/RCORBYN/User_Data/Current_Projects/20250703_Danis/Slide_Ims/MCL1/MCL_1_LIV__RBCMT_RMH135_2f_23_2639.svs\n",
      "\n",
      "R09_DT_060625_MCL-014\n",
      "N:/RCORBYN/User_Data/Current_Projects/20250703_Danis/Slide_Ims/MCL1/R09_DT_060625_MCL-014.svs\n",
      "N:/RCORBYN/User_Data/Current_Projects/20250703_Danis/Slide_Ims/MCL1/MCL_1_LIV_RBCMIT__RMH156_1d_24_18448_GS_ROS_25x_522.svs\n",
      "\n",
      "R09_DT_060625_MCL-015\n",
      "N:/RCORBYN/User_Data/Current_Projects/20250703_Danis/Slide_Ims/MCL1/R09_DT_060625_MCL-015.svs\n",
      "N:/RCORBYN/User_Data/Current_Projects/20250703_Danis/Slide_Ims/MCL1/MCL_1_LIV_RBCMI__RMH156_1b_24_1_8453_GS_ROS_25x_522.svs\n",
      "\n",
      "R09_DT_060625_MCL-027\n",
      "N:/RCORBYN/User_Data/Current_Projects/20250703_Danis/Slide_Ims/MCL1/R09_DT_060625_MCL-027.svs\n",
      "N:/RCORBYN/User_Data/Current_Projects/20250703_Danis/Slide_Ims/MCL1/MCL_1_LIV_RBCMT_RMH126_Sb__23_2048_SM_RO9Q_25x_522.svs\n",
      "\n",
      "R09_DT_060625_MCL-011\n",
      "N:/RCORBYN/User_Data/Current_Projects/20250703_Danis/Slide_Ims/MCL1/R09_DT_060625_MCL-011.svs\n",
      "N:/RCORBYN/User_Data/Current_Projects/20250703_Danis/Slide_Ims/MCL1/MCL_1_LIV__RBCMT_RMH152__b_2AI21_328__DT_ROS_25x_522.svs\n",
      "\n",
      "R09_DT_060625_MCL-024\n",
      "N:/RCORBYN/User_Data/Current_Projects/20250703_Danis/Slide_Ims/MCL1/R09_DT_060625_MCL-024.svs\n",
      "N:/RCORBYN/User_Data/Current_Projects/20250703_Danis/Slide_Ims/MCL1/MCL_1_LIV_RBBCMT__RMQ31_4a_21_9448_SM_ROG_25x_522.svs\n",
      "\n",
      "R09_DT_060625_MCL-006\n",
      "N:/RCORBYN/User_Data/Current_Projects/20250703_Danis/Slide_Ims/MCL1/R09_DT_060625_MCL-006.svs\n",
      "N:/RCORBYN/User_Data/Current_Projects/20250703_Danis/Slide_Ims/MCL1/MCL_1_LIV__RBCM_I_RMH135_2d_23_2635__SM_ROO_25x_522.svs\n",
      "\n",
      "R09_DT_060625_MCL-008\n",
      "N:/RCORBYN/User_Data/Current_Projects/20250703_Danis/Slide_Ims/MCL1/R09_DT_060625_MCL-008.svs\n",
      "N:/RCORBYN/User_Data/Current_Projects/20250703_Danis/Slide_Ims/MCL1/MCL_1_LV_RBCMI_RMH135_2a__2312629_SM_ROG_25x_522.svs\n",
      "\n",
      "R09_DT_060625_MCL\n",
      "N:/RCORBYN/User_Data/Current_Projects/20250703_Danis/Slide_Ims/MCL1/R09_DT_060625_MCL.svs\n",
      "N:/RCORBYN/User_Data/Current_Projects/20250703_Danis/Slide_Ims/MCL1/MCL_14_LIV_RBCMT_RMH153_6a__24_1_8454_GS_ROG_25x_522.svs\n",
      "\n",
      "R09_DT_060625_MCL-007\n",
      "N:/RCORBYN/User_Data/Current_Projects/20250703_Danis/Slide_Ims/MCL1/R09_DT_060625_MCL-007.svs\n",
      "N:/RCORBYN/User_Data/Current_Projects/20250703_Danis/Slide_Ims/MCL1/MCL_1_LIV_RBCMI__RMH135_2c_23_2633_SM_ROQ__25x_522.svs\n",
      "\n",
      "R09_DT_060625_MCL-001\n",
      "N:/RCORBYN/User_Data/Current_Projects/20250703_Danis/Slide_Ims/MCL1/R09_DT_060625_MCL-001.svs\n",
      "N:/RCORBYN/User_Data/Current_Projects/20250703_Danis/Slide_Ims/MCL1/MCL_1._LIV_RBCMI__RMH152_7c_24_21330_OT_ROG_25x_522.svs\n",
      "\n",
      "R09_DT_060625_MCL-025\n",
      "N:/RCORBYN/User_Data/Current_Projects/20250703_Danis/Slide_Ims/MCL1/R09_DT_060625_MCL-025.svs\n",
      "N:/RCORBYN/User_Data/Current_Projects/20250703_Danis/Slide_Ims/MCL1/MCL_1_LIV_RBBCMT_RMQ30_4c__21_9444_SM_ROS_25x_522.svs\n",
      "\n",
      "R09_DT_060625_MCL-005\n",
      "N:/RCORBYN/User_Data/Current_Projects/20250703_Danis/Slide_Ims/MCL1/R09_DT_060625_MCL-005.svs\n",
      "N:/RCORBYN/User_Data/Current_Projects/20250703_Danis/Slide_Ims/MCL1/MCL_1_LIV_RBCMI__RMH135_2e_231263___SM_ROOD_25x_522.svs\n",
      "\n",
      "R09_DT_060625_MCL-020\n",
      "N:/RCORBYN/User_Data/Current_Projects/20250703_Danis/Slide_Ims/MCL1/R09_DT_060625_MCL-020.svs\n",
      "N:/RCORBYN/User_Data/Current_Projects/20250703_Danis/Slide_Ims/MCL1/MCL_1_LIV_RBBCMT__RMQ35_2d_21_15699_SM_ROG_25x_522.svs\n",
      "\n",
      "R09_DT_060625_MCL-013\n",
      "N:/RCORBYN/User_Data/Current_Projects/20250703_Danis/Slide_Ims/MCL1/R09_DT_060625_MCL-013.svs\n",
      "N:/RCORBYN/User_Data/Current_Projects/20250703_Danis/Slide_Ims/MCL1/MCL_1_LV_RBCMT__RMH156_te_24_18460_GS_ROS_25x_522.svs\n",
      "\n",
      "R09_DT_060625_MCL-017\n",
      "N:/RCORBYN/User_Data/Current_Projects/20250703_Danis/Slide_Ims/MCL1/R09_DT_060625_MCL-017.svs\n",
      "N:/RCORBYN/User_Data/Current_Projects/20250703_Danis/Slide_Ims/MCL1/MCL_1_LIV_RBCMT__RMH1S3_6c_2A_8455_GS_ROS_25yx_522.svs\n",
      "\n",
      "R09_DT_060625_MCL-023\n",
      "N:/RCORBYN/User_Data/Current_Projects/20250703_Danis/Slide_Ims/MCL1/R09_DT_060625_MCL-023.svs\n",
      "N:/RCORBYN/User_Data/Current_Projects/20250703_Danis/Slide_Ims/MCL1/MCL_1_LIV_RBBCMT_RMQ30_4d__21_9446_SM_ROG_25x_522.svs\n",
      "\n",
      "R09_DT_060625_MCL-018\n",
      "N:/RCORBYN/User_Data/Current_Projects/20250703_Danis/Slide_Ims/MCL1/R09_DT_060625_MCL-018.svs\n",
      "N:/RCORBYN/User_Data/Current_Projects/20250703_Danis/Slide_Ims/MCL1/MCL_1_LV_RBBCMT._RMQ34_4a__21_21_46_7_SM_ROS_25x_522.svs\n",
      "\n",
      "R09_DT_060625_MCL-003\n",
      "N:/RCORBYN/User_Data/Current_Projects/20250703_Danis/Slide_Ims/MCL1/R09_DT_060625_MCL-003.svs\n",
      "N:/RCORBYN/User_Data/Current_Projects/20250703_Danis/Slide_Ims/MCL1/MCL_1_LIV_RBCMT_RMH135_2b__23_2631_SM_ROG_25x_322.svs\n",
      "\n",
      "R09_DT_060625_MCL-019\n",
      "N:/RCORBYN/User_Data/Current_Projects/20250703_Danis/Slide_Ims/MCL1/R09_DT_060625_MCL-019.svs\n",
      "N:/RCORBYN/User_Data/Current_Projects/20250703_Danis/Slide_Ims/MCL1/MCL_1_LIV_RBBCMT__RMQ34_3b_21_15694_SM_ROG_25x_522.svs\n",
      "\n",
      "R09_DT_060625_MCL-026\n",
      "N:/RCORBYN/User_Data/Current_Projects/20250703_Danis/Slide_Ims/MCL1/R09_DT_060625_MCL-026.svs\n",
      "N:/RCORBYN/User_Data/Current_Projects/20250703_Danis/Slide_Ims/MCL1/MCL_1_LIV_RBBCMT__RMQ34_ta_21_16601_SM_ROO_25x_522.svs\n",
      "\n",
      "R09_DT_060625_MCL-016\n",
      "N:/RCORBYN/User_Data/Current_Projects/20250703_Danis/Slide_Ims/MCL1/R09_DT_060625_MCL-016.svs\n",
      "N:/RCORBYN/User_Data/Current_Projects/20250703_Danis/Slide_Ims/MCL1/MCL_4_LIV_RBCMT_RMH153_6d__24_18456_GS_ROS_25x_522.svs\n",
      "\n",
      "R09_DT_060625_MCL-012\n",
      "N:/RCORBYN/User_Data/Current_Projects/20250703_Danis/Slide_Ims/MCL1/R09_DT_060625_MCL-012.svs\n",
      "N:/RCORBYN/User_Data/Current_Projects/20250703_Danis/Slide_Ims/MCL1/MCL_1_LIV_RBCMT_RMH156_1f__24_1_8452_GS_ROG_25x_522.svs\n",
      "\n",
      "R09_DT_060625_MCL-021\n",
      "N:/RCORBYN/User_Data/Current_Projects/20250703_Danis/Slide_Ims/MCL1/R09_DT_060625_MCL-021.svs\n",
      "N:/RCORBYN/User_Data/Current_Projects/20250703_Danis/Slide_Ims/MCL1/MCL_1_LV_RBBCMI_RMQ3S_2c__21_15698_SM_ROS_25x_522.svs\n",
      "\n",
      "R09_DT_060625_MCL-010\n",
      "N:/RCORBYN/User_Data/Current_Projects/20250703_Danis/Slide_Ims/MCL1/R09_DT_060625_MCL-010.svs\n",
      "N:/RCORBYN/User_Data/Current_Projects/20250703_Danis/Slide_Ims/MCL1/MCL_1_LV_RBCMT_RMH1S2__a__24_21326_DT_ROS_25x_522.svs\n",
      "\n",
      "R09_DT_060625_MCL-022\n",
      "N:/RCORBYN/User_Data/Current_Projects/20250703_Danis/Slide_Ims/MCL1/R09_DT_060625_MCL-022.svs\n",
      "N:/RCORBYN/User_Data/Current_Projects/20250703_Danis/Slide_Ims/MCL1/MCL_1_LIV_RBBGMI_RMQ35_2a__21_1_5696_SM_ROS_25x_522.svs\n"
     ]
    }
   ],
   "source": [
    "# Initalise\n",
    "\n",
    "results = []\n",
    "pytess.pytesseract.tesseract_cmd = r'C:/Users/rcorbyn/AppData/Local/Programs/Tesseract-OCR/tesseract.exe'\n",
    "# pytess.pytesseract.tesseract_cmd = r'C:/Program Files/Tesseract-OCR/tesseract.exe'\n",
    "\n",
    "# fig, ax = plt.subplots(nrows = 10, ncols = 3, figsize = (30, 50))\n",
    "\n",
    "# Loop around all files\n",
    "# for file in files:\n",
    "for i in range( len(files) ):\n",
    "    # \n",
    "    file = files[i]\n",
    "    # print(file)\n",
    "    svs_of_interest = 0\n",
    "    # Open the image\n",
    "    image_data = np.array( Image.open(folder + '/' + file) )\n",
    "    # Sum all channels\n",
    "    image_data = np.sum( image_data, axis = 2 )\n",
    "    # binery \n",
    "    image_data[image_data < np.max(image_data)] = 0\n",
    "    image_data[image_data > 1] = 1\n",
    "    # Segment just the lettes in the image. \n",
    "    letters, letter_props = get_letters_and_locs(image_data)\n",
    "    \n",
    "    # Find the leters at the corners of the label. \n",
    "    corners = corners_of_text(letter_props)\n",
    "    # Find the angle of rotation\n",
    "    angle = angle_calc(corners)\n",
    "    \n",
    "    # Rotate the image by the angle found above.\n",
    "    if angle < -10:\n",
    "        angle = 90 + angle\n",
    "    elif angle > 10:\n",
    "        angle = angle - 90\n",
    "    # Rotate the image\n",
    "    rotated_letters = scipy.ndimage.rotate(image_data, angle ) \n",
    "\n",
    "    # Segment just the lettes in the image. \n",
    "    letters_2, letter_props_2 = get_letters_and_locs(rotated_letters)\n",
    "    # Find the leters at the corners of the label. \n",
    "    corners_2 = corners_of_text(letter_props_2)\n",
    "\n",
    "    # # # Crop image \n",
    "    crop = rotated_letters[int(corners_2[0][0]) - 50 : int(corners_2[3][0])+50, \n",
    "                          int(corners_2[0][1]) - 50 : int(corners_2[3][1])+50]\n",
    "    \n",
    "    # \n",
    "    skelton = skimage.morphology.skeletonize(crop)\n",
    "    skelton = skelton + np.roll(skelton, (0,1)) + np.roll(skelton, (0,-1)\n",
    "                    ) + np.roll(skelton, (1,0))+ np.roll(skelton, (-1,0))\n",
    "    # \n",
    "    label_text = read_text_from_im(skelton)\n",
    "    #\n",
    "    #####\n",
    "    ## Rename file\n",
    "    # First_underscore\n",
    "    first_under = file.find('_')\n",
    "    # last underscore \n",
    "    last_under = file.rfind('_')\n",
    "    print(file[first_under+1:last_under])\n",
    "\n",
    "    for j in range( len(svs_files) ):\n",
    "        # \n",
    "        if svs_files[j].find(file[first_under+1:last_under]) >- 1 and len(svs_files[j][0:-4]) == len(file[first_under+1:last_under]):\n",
    "            svs_of_interest = svs_files[j]\n",
    "            \n",
    "    if len(svs_of_interest) > 1: \n",
    "        print(svs_folder + svs_of_interest)\n",
    "        print(svs_folder +  label_text[0:-2] + svs_of_interest[-4:])\n",
    "    \n",
    "    os.rename(svs_folder +svs_of_interest, \n",
    "             svs_folder +  label_text[0:-2] + svs_of_interest[-4:]) \n",
    "    \n",
    "    "
   ]
  },
  {
   "cell_type": "code",
   "execution_count": null,
   "id": "3146523f-4c53-4ce1-898a-10570002b0de",
   "metadata": {},
   "outputs": [],
   "source": []
  }
 ],
 "metadata": {
  "kernelspec": {
   "display_name": "Python 3 (ipykernel)",
   "language": "python",
   "name": "python3"
  },
  "language_info": {
   "codemirror_mode": {
    "name": "ipython",
    "version": 3
   },
   "file_extension": ".py",
   "mimetype": "text/x-python",
   "name": "python",
   "nbconvert_exporter": "python",
   "pygments_lexer": "ipython3",
   "version": "3.11.13"
  }
 },
 "nbformat": 4,
 "nbformat_minor": 5
}
