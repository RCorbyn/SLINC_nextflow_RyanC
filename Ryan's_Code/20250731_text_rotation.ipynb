{
 "cells": [
  {
   "cell_type": "markdown",
   "id": "f4412250-5614-4304-b558-d51a3bb9bcec",
   "metadata": {},
   "source": [
    "# Rotate Text in image\n",
    "\n",
    "The images from the slide scanner are rarely in an orientation where the text runs horizontally across the page. This is a script that aims to rotate the images to correct for this. "
   ]
  },
  {
   "cell_type": "markdown",
   "id": "e5301147-a746-431d-a6b6-6344f85101d3",
   "metadata": {},
   "source": [
    "--- \n",
    "### Import dependancies"
   ]
  },
  {
   "cell_type": "code",
   "execution_count": 1,
   "id": "921b004a-adf5-407a-8477-4f9884d4ef19",
   "metadata": {},
   "outputs": [],
   "source": [
    "import pytesseract as pytess\n",
    "import numpy as np \n",
    "import skimage \n",
    "import scipy \n",
    "import aicsimageio\n",
    "import os \n",
    "import tifffile as tf\n",
    "from PIL import Image\n",
    "import tkinter as tk \n",
    "import pandas as pd\n",
    "import matplotlib.pyplot as plt\n",
    "from tkinter import filedialog"
   ]
  },
  {
   "cell_type": "markdown",
   "id": "f46942ee-5c7f-431c-a3ad-ebbf4fab2b6a",
   "metadata": {},
   "source": [
    "----\n",
    "### Find four couners of the image"
   ]
  },
  {
   "cell_type": "code",
   "execution_count": 2,
   "id": "17ff760e-0651-4340-abcd-edafbf02e47e",
   "metadata": {},
   "outputs": [],
   "source": [
    "def corners_of_text(letter_properties):\n",
    "    ''' '''\n",
    "    # Format data\n",
    "    letter_properties = letter_properties.sort_values(['centroid-0', 'centroid-1'])\n",
    "    \n",
    "    # Get the co-ordinates for the top left. \n",
    "    tl_props = letter_properties[letter_properties['centroid-1'] < letter_properties['centroid-1'].min() + 10]\n",
    "    tl_props = tl_props[tl_props['centroid-0'] == tl_props['centroid-0'].min()]\n",
    "    top_left = [int(tl_props['centroid-1'].iloc[0]), \n",
    "                int(tl_props['centroid-0'].iloc[0])]\n",
    "\n",
    "\n",
    "    br_props = letter_properties[letter_properties['centroid-1'] > letter_properties['centroid-1'].max() - 10]\n",
    "    br_props = br_props[br_props['centroid-0'] == br_props['centroid-0'].max()]\n",
    "    # Get the co-ordinated for the bottom right. \n",
    "    bot_right = [int(br_props['centroid-1'].iloc[-1]), \n",
    "                int(br_props['centroid-0'].iloc[-1])]\n",
    "\n",
    "    # Filter values to find top right \n",
    "    tr_filter = letter_properties[letter_properties['centroid-0'] < letter_properties['centroid-0'].iloc[0] + 50]\n",
    "    # Find largest centroid-1 value \n",
    "    find_biggest_tr = np.where( tr_filter['centroid-1'] ==  np.max( tr_filter['centroid-1'] ) )[0][0]\n",
    "    # Get the top  \n",
    "    tr = [int(tr_filter['centroid-1'].iloc[find_biggest_tr]), \n",
    "         int(tr_filter['centroid-0'].iloc[find_biggest_tr])]\n",
    "\n",
    "    # Filter values to find top right \n",
    "    if tr == top_left: \n",
    "        # Filter values to find top right \n",
    "        tr_filter = letter_properties[letter_properties['centroid-0'] > letter_properties['centroid-0'].iloc[0] - 50]\n",
    "        # Find largest centroid-1 value \n",
    "        find_biggest_tr = np.where( tr_filter['centroid-1'] ==  np.max( tr_filter['centroid-1'] ) )[0][0]\n",
    "        # Get the top  \n",
    "        tr = [int(tr_filter['centroid-1'].iloc[find_biggest_tr]), \n",
    "             int(tr_filter['centroid-0'].iloc[find_biggest_tr])]\n",
    "\n",
    "    # Filter values to find bottom left\n",
    "    bl_filter = letter_properties[letter_properties['centroid-0'] > letter_properties['centroid-0'].iloc[-1] - 50]\n",
    "    # Find largest centroid-1 value \n",
    "    find_biggest_bl = np.where( bl_filter['centroid-1'] ==  np.min( bl_filter['centroid-1'] ) )[0][0]\n",
    "    # Get the top  \n",
    "    bl = [int(bl_filter['centroid-1'].iloc[find_biggest_bl]), \n",
    "         int(bl_filter['centroid-0'].iloc[find_biggest_bl])]\n",
    "    \n",
    "    if bl == bot_right:\n",
    "        # Filter values to find bottom left\n",
    "        bl_filter = letter_properties[letter_properties['centroid-0'] < letter_properties['centroid-0'].iloc[-1] + 50]\n",
    "        # Find largest centroid-1 value \n",
    "        find_biggest_bl = np.where( bl_filter['centroid-1'] ==  np.min( bl_filter['centroid-1'] ) )[0][0]\n",
    "        # Get the top  \n",
    "        bl = [int(bl_filter['centroid-1'].iloc[find_biggest_bl]), \n",
    "             int(bl_filter['centroid-0'].iloc[find_biggest_bl])]\n",
    "\n",
    "    four_corners = np.array( [top_left, bot_right, tr, bl]) \n",
    "    \n",
    "    return(four_corners)"
   ]
  },
  {
   "cell_type": "markdown",
   "id": "b491ea16-18b8-4913-9699-4043b3666481",
   "metadata": {},
   "source": [
    "----\n",
    "### Calculate Angle"
   ]
  },
  {
   "cell_type": "code",
   "execution_count": 3,
   "id": "51939bf1-e5e5-4f49-84a6-b18b79778407",
   "metadata": {},
   "outputs": [],
   "source": [
    "def angle_calc(four_corners): \n",
    "    ''' ''' \n",
    "    #\n",
    "    min_x = np.where( four_corners[0:2, :] == np.min(four_corners[0:2, :]) )[0]\n",
    "    point_1 = four_corners[min_x, :][0]\n",
    "    #\n",
    "    loc_bot_right = np.abs(four_corners[2:, 0] - point_1[0]).argmin() + 2\n",
    "    \n",
    "    #\n",
    "    point_2 = four_corners[loc_bot_right, :]\n",
    "    \n",
    "    # delta x \n",
    "    delta_x = point_1[0] - point_2[0]\n",
    "    delta_y = point_1[1] - point_2[1]\n",
    "\n",
    "    # angle \n",
    "    angle = 180 * ( np.arctan(delta_x / delta_y) / np.pi)\n",
    "\n",
    "    return(angle)"
   ]
  },
  {
   "cell_type": "markdown",
   "id": "0f29eb2a-9d6a-4b18-8c32-27ab5324fb87",
   "metadata": {},
   "source": [
    "---\n",
    "### Get images folder"
   ]
  },
  {
   "cell_type": "code",
   "execution_count": 4,
   "id": "a00a7ab3-a757-436a-8c3e-3765dbf27aa4",
   "metadata": {},
   "outputs": [
    {
     "name": "stdout",
     "output_type": "stream",
     "text": [
      "29\n"
     ]
    }
   ],
   "source": [
    "# # # Creates dialogue to ask directory\n",
    "# # # Get the folder containing the image stack. \n",
    "root = tk.Tk()\n",
    "root.attributes('-topmost', True)\n",
    "root.withdraw() # Stops a second window opening\n",
    "folder = filedialog.askdirectory(title = 'Select Stack file')\n",
    "\n",
    "all_files = os.listdir(folder) \n",
    "\n",
    "files = []\n",
    "for i in range( len(all_files) ):\n",
    "    if all_files[i][-4:] == '.png': \n",
    "        files.append(all_files[i])\n",
    "\n",
    "print(len(files))"
   ]
  },
  {
   "cell_type": "markdown",
   "id": "d1de0bc2-a0c2-4919-903f-8a0d6d6a1918",
   "metadata": {},
   "source": [
    "----\n",
    "# Get image data"
   ]
  },
  {
   "cell_type": "code",
   "execution_count": 5,
   "id": "20a1c6c5-c5a9-47d5-85f3-6e2bfa20cb1b",
   "metadata": {
    "scrolled": true
   },
   "outputs": [],
   "source": [
    "# Initalise\n",
    "props = {'label', 'area', 'centroid'}\n",
    "results = []\n",
    "pytess.pytesseract.tesseract_cmd = r'C:/Users/rcorbyn/AppData/Local/Programs/Tesseract-OCR/tesseract.exe'\n",
    "\n",
    "# Loop around all files\n",
    "for file in files:\n",
    "    # Open the image\n",
    "    image_data = np.array( Image.open(folder + '/' + file) ) \n",
    "    # Segment just the lettes in the image. \n",
    "    letters = skimage.measure.label(image_data)[:, :, 0]\n",
    "    # Find the properties of the letters. \n",
    "    letter_props = pd.DataFrame( skimage.measure.regionprops_table(letters, properties = props) )\n",
    "    # Ignore the labels with an area smaller than 250 pixels.\n",
    "    letter_props = letter_props[ letter_props['area'] > 250 ]\n",
    "    # Find the leters at the corners of the label. \n",
    "    corners = corners_of_text(letter_props)\n",
    "    # Find the angle of rotation\n",
    "    angle = angle_calc(corners)\n",
    "    # Rotate the image by the angle found above.\n",
    "    rotate_im = scipy.ndimage.rotate(image_data, ( -1 * angle) ) \n",
    "    \n",
    "    # Perform OCR. \n",
    "    text = pytess.image_to_string(rotate_im)\n",
    "    # Clean up the text from the OCR. \n",
    "    text = text.replace( chr(10), '_' )\n",
    "    text = text.replace( ' ' , '_' )\n",
    "    text = text.replace( '/', '_' )\n",
    "    text = text.replace('=', '')\n",
    "    # Save the results of the OCR. \n",
    "    results.append(text)"
   ]
  },
  {
   "cell_type": "code",
   "execution_count": 6,
   "id": "c58c17d1-f3aa-46f3-8212-9bd1fb2fd835",
   "metadata": {},
   "outputs": [
    {
     "data": {
      "text/plain": [
       "['GS_LIV_RBBCMT_RMQ30_4d_21_9446__SM_ROS__25x_522_',\n",
       " 'GS_LIV_RBCMT_RMH152_7c_24_21330__DT_ROS_25x_522_',\n",
       " 'GS_LIV_RBCMT_RMH153_6c_24_18455__GS_RO9__25x_522_',\n",
       " 'GS_LIV_RBCMT_RMH135_2d_23_2635__SM_RO9Q__25x_522_',\n",
       " 'GS_LIV_BCMT__RB__RMQ35_2a_21_15696__SM_RO9Q__25x_522_',\n",
       " 'LIV_RBCMT_RMH126_5a_23_2641_SM_RO9__25x_522_',\n",
       " 'GS_LIV_RBBCMT_RMQ34_4a_21_21_467__SM_RO9__25x_522_',\n",
       " 'eh_LIV_RBCMT_RMH135_2b_23_2631__SM_ROS_25x_522_',\n",
       " 'GS_LIV_RBCMT_RMH156_1b_24_18453__GS_RO9__25x_522_',\n",
       " 'GS_LIV_RBCMT_RMH156_1f_24_18452__GS_RO9__25x_522_',\n",
       " 'LIV_RBCMT_RMH135_2c_23_2633_SMRO9_25x_522_',\n",
       " 'LIV_RBBCMT_RMQ34_1b_21_16603_SMRO9__25x_522_',\n",
       " 'GS_LIV_RBBCMT_RMQ34_3b_21_15694__SM_ROS__25x_522_',\n",
       " 'GS_LIV_RBBCMT_RMQ30_4c_21_9444__SM_RO9Q__25x_522_',\n",
       " 'GS_LIV_RBBCMT_RMQ35_2c_21_15698__SM_RO9_25x_522_',\n",
       " 'GS_LIV_RBCMT_RMH152_7b_24_21328__DT_ROQ9_25x_522_',\n",
       " 'GS_LIV_RBCMT._RMH137_2d_23_2645__SM_RO9__25x_522_',\n",
       " 'LIV_RBCMT_RMH126_Sb_23_2643_SM_ROQ_25x_522_',\n",
       " 'LIV_RBBCMT_RMQ35_2d_21_15699_SM_RO9__25x_522_',\n",
       " 'LIV_RBCMT_RMH152_7a_24_21326_DT_ROS_25x_522_',\n",
       " 'GS_LIV_RBCMT_RMH135_2e_23_2637__SMRO9Q__25x_522_',\n",
       " 'GS_LIV_RBCMT_RMH153_6d_24_18456__GS_ROQ__25x_522_',\n",
       " 'LIV_RBCMT_RMH135_2a_23_2629_SMROQ_25x_522_',\n",
       " 'LIV_RBCMT_RMH156_1d_24_18448_GS_ROG__25x_522_',\n",
       " 'GS_LIV_RBBCMT_RMQ31_4a_21_9448__SM_ROQ__25x_522_',\n",
       " 'LIV_RBCMT_RMH135_2f_23_2639_SM_RO9Q__25x_522_',\n",
       " 'GS_LIV_RBBCMT_RMQ34_1a_21_16601__SM_RO9Q__25x_522_',\n",
       " 'GS_LIV_RBCMT_RMH156_te_24_18460__GS_ROQ__25x_522_',\n",
       " 'GS_LIV_RBCMT_RMH153_6a_24_18454__GS_ROQ9_25x_522_']"
      ]
     },
     "execution_count": 6,
     "metadata": {},
     "output_type": "execute_result"
    }
   ],
   "source": [
    "results"
   ]
  }
 ],
 "metadata": {
  "kernelspec": {
   "display_name": "Python 3 (ipykernel)",
   "language": "python",
   "name": "python3"
  },
  "language_info": {
   "codemirror_mode": {
    "name": "ipython",
    "version": 3
   },
   "file_extension": ".py",
   "mimetype": "text/x-python",
   "name": "python",
   "nbconvert_exporter": "python",
   "pygments_lexer": "ipython3",
   "version": "3.13.5"
  }
 },
 "nbformat": 4,
 "nbformat_minor": 5
}
