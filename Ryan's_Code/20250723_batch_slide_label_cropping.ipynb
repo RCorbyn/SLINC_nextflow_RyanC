{
 "cells": [
  {
   "cell_type": "markdown",
   "id": "a5da63d6-8006-4e56-b469-1bea903a03fc",
   "metadata": {},
   "source": [
    "# Batch Slide label cropping"
   ]
  },
  {
   "cell_type": "markdown",
   "id": "5bb43e70-c719-467d-a4d1-dea773a79e33",
   "metadata": {},
   "source": [
    "----\n",
    "### Import dependancies"
   ]
  },
  {
   "cell_type": "code",
   "execution_count": 1,
   "id": "4e4a0b7d-67f1-4816-a32e-3db46933d3c2",
   "metadata": {},
   "outputs": [],
   "source": [
    "import pytesseract as pytess\n",
    "import numpy as np \n",
    "import skimage \n",
    "import scipy \n",
    "import aicsimageio\n",
    "import os \n",
    "import tifffile as tf\n",
    "from PIL import Image\n",
    "import tkinter as tk \n",
    "import pandas as pd\n",
    "import matplotlib.pyplot as plt\n",
    "from tkinter import filedialog"
   ]
  },
  {
   "cell_type": "code",
   "execution_count": 2,
   "id": "d0abbd76-9bd6-43d8-8d61-65f93bf6a2c8",
   "metadata": {},
   "outputs": [],
   "source": [
    "pytess.pytesseract.tesseract_cmd = r'C:/Users/rcorbyn/AppData/Local/Programs/Tesseract-OCR/tesseract.exe'"
   ]
  },
  {
   "cell_type": "markdown",
   "id": "813a5958-b8d7-4d6f-a505-d31dc8d7e0a8",
   "metadata": {},
   "source": [
    "----\n",
    "### Get slide image"
   ]
  },
  {
   "cell_type": "code",
   "execution_count": 7,
   "id": "15b0a069-04e4-4df2-aafd-5aab3d6d9d59",
   "metadata": {},
   "outputs": [
    {
     "name": "stdout",
     "output_type": "stream",
     "text": [
      "N:/RCORBYN/User_Data/Current_Projects/20241118_PlateScanner/Raw_Slide_Images\n",
      "['labelled_Kyi_R09_221024-263.png', 'labelled_R09_Kyi_231024-009.png', 'labelled_Kyi_R09_221024-233.png', 'labelled_Kyi_R09_221024-280.png', 'labelled_R09_Kyi_231024-008.png', 'labelled_Kyi_R09_221024-039.png', 'labelled_R09_Kyi_231024-028.png', 'labelled_Kyi_R09_221024-025.png', 'labelled_Kyi_R09_221024-057.png', 'labelled_R09_Kyi_231024-013.png', 'labelled_Kyi_R09_221024-198.png', 'labelled_Kyi_R09_221024-200.png', 'labelled_Kyi_R09_221024-221.png', 'labelled_Kyi_R09_221024-125.png', 'labelled_Kyi_R09_221024-099.png', 'labelled_Kyi_R09_221024-152.png', 'labelled_Kyi_R09_221024-240.png', 'labelled_Kyi_R09_221024-107.png', 'labelled_Kyi_R09_221024-195.png', 'labelled_R09_Kyi_231024-043.png', 'labelled_R09_Kyi_231024-052.png', 'labelled_Kyi_R09_221024-179.png', 'labelled_Kyi_R09_221024-229.png', 'labelled_Kyi_R09_221024-243.png', 'labelled_Kyi_R09_221024-008.png', 'labelled_Kyi_R09_221024-169.png', 'labelled_Kyi_R09_221024-268.png', 'Thumbs.db', 'labelled_Kyi_R09_221024-266.png', 'labelled_Kyi_R09_221024-055.png', 'labelled_Kyi_R09_221024-207.png', 'labelled_Kyi_R09_221024-121.png', 'labelled_Kyi_R09_221024-216.png', 'labelled_Kyi_R09_221024-089.png', 'labelled_Kyi_R09_221024-044.png', 'labelled_R09_Kyi_231024-026.png', 'labelled_R09_Kyi_231024-053.png', 'labelled_Kyi_R09_221024-009.png', 'labelled_Kyi_R09_221024-232.png', 'labelled_Kyi_R09_221024-038.png', 'labelled_Kyi_R09_221024-058.png']\n"
     ]
    }
   ],
   "source": [
    "# # # Creates dialogue to ask directory\n",
    "# # # Get the folder containing the image stack. \n",
    "root = tk.Tk()\n",
    "root.attributes('-topmost', True)\n",
    "root.withdraw() # Stops a second window opening\n",
    "folder = filedialog.askdirectory(title = 'Select Stack file')\n",
    "\n",
    "files = os.listdir(folder)\n",
    "\n",
    "print(folder)\n",
    "print(files)"
   ]
  },
  {
   "cell_type": "markdown",
   "id": "55a9b3f2-a8a0-4f0c-a9c3-41bfdb3b84a2",
   "metadata": {},
   "source": [
    "----\n",
    "### Letter segmentation"
   ]
  },
  {
   "cell_type": "code",
   "execution_count": 11,
   "id": "112c86fe-f6f8-4efe-b379-8c510d79b16a",
   "metadata": {},
   "outputs": [
    {
     "name": "stdout",
     "output_type": "stream",
     "text": [
      "F_4_80__IZY__IZY25_2b_24_19949_2_KY_ROS_LF_\n",
      "4_CASP3__LIV__24_14527_KY_ROO_24x_876_\n",
      "H&E__IZY__IZY25_2e_24_19953_2_KY_ROO_LF__Celeurslides_\n",
      "FOXP3__IZY__IZY25_2__24_1993_1_ROS_LF_\n",
      "CASP3_LIV_IBLACK__IZY24_9m_24_14543__KY_ROO_24x_876_\n",
      "BRDU_LIV__IZY__IZY25_2_24_19938_KY_ROO_LF_\n",
      "CD8a_LIV_IBLACK__IZY24_9_24_14541__KY_ROO_=_24x_876_\n",
      "FOXP3__IZY__IZY25_2p_24_19959_1_KY_ROO_LF_\n",
      "BRDU_LIV_IZY__IZY25_2d_24_19950_KY_ROO_LF_\n",
      "t_mses_LIV__BLACK_IZY¥24_9)__24_1_4537_ROQ9_24x_876_\n",
      "CD8a_LIV_IZY__IZY25_2f_24_19954__KY_ROS_LF_\n",
      "CD8a__IZY__IZY25_2f_24_19955_2_KY_ROS_LF_\n",
      "H&E__IZY__IZY25_2n_24_19945_2_KY_ROO_LF__Celeurshdes_\n",
      "GHA2X__IZY__IZY25_2a_24_19947_2_KY_ROO_LF_\n",
      "CASP3_LIV_IZY__IZY25_2f_24_19954_KY_ROO_LF_\n",
      "GRANZ_B__IZY__IZY25_2a_24_19947_2_KY_ROO_LF_\n",
      "H&E_LIV_IZY__IZY25_2p_24_19958__KY_ROO_LF__Celeurslides_\n",
      "CASP3__IZY__IZY25_2p_24_19959_2_KY_ROO_LF_\n",
      "CD8a_LIV_IZY__IZY25_2e_24_19952_KY_ROO_LF_\n",
      "FOXP3_LIV_IBLACK__IZY24_9I_24_14541__KY_ROQ_24x_876_\n",
      "F4_80_LIV_IBLACK__IZY24_9b_24_14523__KY_ROO_24x_876_\n",
      "CD8a__IZY__IZY25_2k_24_19941_2_KY_ROO_LF_\n",
      "H&E__IZY__IZ¥25_2d_|_24_19951_1__KY_ROO_LF__Celeursh@des_\n",
      "F4_80_LIV_IZY__IZY25_2g_24_19936_KY_ROO_LF_\n",
      "FOXP3__IZY__IZY25_2a_24119947_92_KY_ROO_LF_\n",
      "GRANZ_B_IZY__IZY25_2p_24_19959_1_KY_ROS_LF_\n",
      "F_4_80__IZY__IZY25_2e_24_19953_1_KY_ROO_LF_\n",
      "F4_80__Y¥_IZY25_2d_24_19951_2_KY_ROS_LF_\n",
      "BRDU__IZY__IZY25_2b_24_19949_1_KY_ROO_LF_\n",
      "H&E_LIV_IZY__IZY25_2_24_1993__KY_ROO_LF__Celeurslhd@des_\n",
      "GHA2X__IZY__IZY25_2n_24_19945_1_KY_ROO_LF_\n",
      "H&E_LIV_IZY__IZY25_2_24_19942__KY_ROO_LF__Celeurshdes_\n",
      "CASP3__IZY__IZY25_2a_24_19947_2_KY_ROO_LF_\n",
      "BRDU__IZY__IZY25_2k_24_19941_2_KY_ROO_LF_\n",
      "-\\__CD8a_LIV_IBLACK__IZY24_9p_24_14549__KY_ROQ_24x_876_\n",
      "AY__F4_80_~—s_LIV_IBLACK_IZY24_90__24_1_4547_KY_ROO_24x_876_\n",
      "FOXP3_LIV_IZY__IZY25_2b_24_19948_KY_ROO_LF_\n",
      "H&E__IZY__IZY25_2e_24_19953_1_KY_ROO_LF__Celeurslhdes_\n",
      "BRDU__IZY__IZY25_2_24_1993_2_KY_ROO_LF_\n",
      "BRDU__IZY__IZY25_2d_24_19951_1_KY_ROO_LF_\n"
     ]
    }
   ],
   "source": [
    "results = []\n",
    "\n",
    "for file in files:\n",
    "    ####\n",
    "    if file[-4:] == '.png':\n",
    "        # Open up the image\n",
    "        rgba_image = Image.open(folder + '/' + file)\n",
    "        im_data = rgba_image.convert('RGB')\n",
    "        # Reduce the image to the lowest \n",
    "        # number of dimensions. \n",
    "        im_data = np.array(im_data)\n",
    "        \n",
    "        #######\n",
    "        # Perform edge detection\n",
    "        edges = skimage.filters.sobel( np.sum(im_data, axis = 2) )\n",
    "        \n",
    "        #####\n",
    "        # Threshold the image to remove most of the \n",
    "        # unimportant information from the image.\n",
    "        \n",
    "        # Find the threshold values\n",
    "        threshold_val = skimage.filters.threshold_otsu(edges)\n",
    "        edges[edges < threshold_val] = 0\n",
    "        \n",
    "        # Fill the binary masks of the letters\n",
    "        fill_string = scipy.ndimage.binary_fill_holes(edges)\n",
    "        \n",
    "        # Invert the image and multiply by the letter\n",
    "        # mask to get only the letters in the image. \n",
    "        invert = fill_string * skimage.util.invert( im_data[:, :, 0] )\n",
    "        #####\n",
    "        # Create a binary image from the inverted letters\n",
    "        binary = np.array(invert)\n",
    "        binary[binary>0] = 1\n",
    "        \n",
    "        # create labels from the binary image. \n",
    "        labels = skimage.measure.label(binary)\n",
    "        \n",
    "        # Get properties of the letters and remaining masks. \n",
    "        region_props = pd.DataFrame( skimage.measure.regionprops_table(\n",
    "                        labels, properties = {'label', 'area', \n",
    "                        'axis_minor_length', 'axis_major_length'}) )\n",
    "        \n",
    "        # Create a mask of zeros\n",
    "        filtered_image = np.zeros(im_data.shape)\n",
    "        \n",
    "        # Loop around all labels. \n",
    "        for i in range(region_props.shape[0]): \n",
    "            # Find the positon of mask i in the label image. \n",
    "            mask_pos = np.where(labels == region_props['label'].iloc[i])\n",
    "            # Find the maximum and minimum height and width of the masks. \n",
    "            delta_x = np.abs( np.min(mask_pos[0]) - np.max(mask_pos[0]) ) \n",
    "            delta_y = np.abs( np.min(mask_pos[1]) - np.max(mask_pos[1]) ) \n",
    "            # If the mask is too long or high, remove \n",
    "            # Also remove if the area is too small. \n",
    "            if delta_x  <= 75 and delta_y <= 75 and region_props['area'].iloc[i] > 100: \n",
    "                # keep the mask. \n",
    "                filtered_image[mask_pos[0], mask_pos[1]] = skimage.util.invert(\n",
    "                                            im_data[mask_pos[0], mask_pos[1], :] )\n",
    "        \n",
    "        filtered_image = np.array(filtered_image, dtype = 'uint8')\n",
    "        \n",
    "        filtered_image[filtered_image>150] = 255\n",
    "        filtered_image[filtered_image<150] = 0\n",
    "        \n",
    "        text = pytess.image_to_string(filtered_image)\n",
    "    \n",
    "        text = text.replace( chr(10), '_' )\n",
    "        text = text.replace( ' ' , '_' )\n",
    "        text = text.replace( '/', '_' )\n",
    "        text = text.replace('colorslide', '')\n",
    "    \n",
    "        print(text)"
   ]
  },
  {
   "cell_type": "code",
   "execution_count": 5,
   "id": "b43c630d-f4fd-4ad9-aba7-cf7f48546a14",
   "metadata": {},
   "outputs": [
    {
     "data": {
      "text/plain": [
       "<matplotlib.image.AxesImage at 0x1b227ad2f10>"
      ]
     },
     "execution_count": 5,
     "metadata": {},
     "output_type": "execute_result"
    },
    {
     "data": {
      "image/png": "[encoded data removed]",
      "text/plain": [
       "<Figure size 640x480 with 1 Axes>"
      ]
     },
     "metadata": {},
     "output_type": "display_data"
    }
   ],
   "source": [
    "im = Image.fromarray(filtered_image)\n",
    "# im.save(\"your_file.jpeg\")\n",
    "plt.imshow(im)"
   ]
  },
  {
   "cell_type": "code",
   "execution_count": 6,
   "id": "c0139663-06f6-4d19-a7d5-c716148af2ca",
   "metadata": {},
   "outputs": [
    {
     "data": {
      "text/plain": [
       "'4_CASP3_LIV__24_14527_KYROO24x_876_'"
      ]
     },
     "execution_count": 6,
     "metadata": {},
     "output_type": "execute_result"
    }
   ],
   "source": [
    "text = text.replace( chr(10), '_' )\n",
    "text = text.replace( ' ' , '' )\n",
    "text = text.replace( '/', '_' )\n",
    "text = text.replace('colorslide', '')\n",
    "text"
   ]
  },
  {
   "cell_type": "code",
   "execution_count": null,
   "id": "f37ab480-bdaf-4a02-bfcb-d80fac4aeecc",
   "metadata": {},
   "outputs": [],
   "source": []
  },
  {
   "cell_type": "code",
   "execution_count": null,
   "id": "1b0a4218-304e-4c8f-bcf5-6914643f2843",
   "metadata": {},
   "outputs": [],
   "source": []
  }
 ],
 "metadata": {
  "kernelspec": {
   "display_name": "Python 3 (ipykernel)",
   "language": "python",
   "name": "python3"
  },
  "language_info": {
   "codemirror_mode": {
    "name": "ipython",
    "version": 3
   },
   "file_extension": ".py",
   "mimetype": "text/x-python",
   "name": "python",
   "nbconvert_exporter": "python",
   "pygments_lexer": "ipython3",
   "version": "3.11.13"
  }
 },
 "nbformat": 4,
 "nbformat_minor": 5
}
