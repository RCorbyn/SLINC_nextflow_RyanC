{
 "cells": [
  {
   "cell_type": "markdown",
   "id": "a5da63d6-8006-4e56-b469-1bea903a03fc",
   "metadata": {},
   "source": [
    "# Batch Slide label cropping"
   ]
  },
  {
   "cell_type": "markdown",
   "id": "5bb43e70-c719-467d-a4d1-dea773a79e33",
   "metadata": {},
   "source": [
    "----\n",
    "### Import dependancies"
   ]
  },
  {
   "cell_type": "code",
   "execution_count": 1,
   "id": "4e4a0b7d-67f1-4816-a32e-3db46933d3c2",
   "metadata": {},
   "outputs": [],
   "source": [
    "import pytesseract as pytess\n",
    "import numpy as np \n",
    "import skimage \n",
    "import scipy \n",
    "# import aicsimageio\n",
    "import os \n",
    "import tifffile as tf\n",
    "from PIL import Image\n",
    "import tkinter as tk \n",
    "import pandas as pd\n",
    "import matplotlib.pyplot as plt\n",
    "from tkinter import filedialog"
   ]
  },
  {
   "cell_type": "code",
   "execution_count": 2,
   "id": "d0abbd76-9bd6-43d8-8d61-65f93bf6a2c8",
   "metadata": {},
   "outputs": [],
   "source": [
    "# pytess.pytesseract.tesseract_cmd = r'C:/Users/rcorbyn/AppData/Local/Programs/Tesseract-OCR/tesseract.exe'\n",
    "pytess.pytesseract.tesseract_cmd = r'C:/Program Files/Tesseract-OCR/tesseract.exe'"
   ]
  },
  {
   "cell_type": "markdown",
   "id": "cc3d625b-91b2-4076-b0f9-8eb5dc2f29ae",
   "metadata": {},
   "source": [
    "---- \n",
    "### Get all files"
   ]
  },
  {
   "cell_type": "code",
   "execution_count": 3,
   "id": "6526c1aa-41ac-4160-bccf-86c8419ef8da",
   "metadata": {},
   "outputs": [],
   "source": [
    "def get_files(im_folders):\n",
    "    ''' '''\n",
    "\n",
    "    # initalise \n",
    "    im_files = []\n",
    "    #\n",
    "    for root, folders, files in os.walk(im_folders):\n",
    "        for file in files:\n",
    "            if file[-4:] == '.png': \n",
    "                im_files.append(root + '/' +file)\n",
    "\n",
    "    return(im_files)"
   ]
  },
  {
   "cell_type": "markdown",
   "id": "813a5958-b8d7-4d6f-a505-d31dc8d7e0a8",
   "metadata": {},
   "source": [
    "----\n",
    "### Get slide image"
   ]
  },
  {
   "cell_type": "code",
   "execution_count": 15,
   "id": "15b0a069-04e4-4df2-aafd-5aab3d6d9d59",
   "metadata": {
    "scrolled": true
   },
   "outputs": [
    {
     "name": "stdout",
     "output_type": "stream",
     "text": [
      "N:/RCORBYN/User_Data/Current_Projects/20250703_Danis/Bcl-2\n"
     ]
    }
   ],
   "source": [
    "# # # Creates dialogue to ask directory\n",
    "# # # Get the folder containing the image stack. \n",
    "root = tk.Tk()\n",
    "root.attributes('-topmost', True)\n",
    "root.withdraw() # Stops a second window opening\n",
    "folder = filedialog.askdirectory(title = 'Select Stack file')\n",
    "\n",
    "files = get_files(folder) \n",
    "\n",
    "# for i in range( len(files) ):\n",
    "#     print(files[i])\n",
    "print(folder)"
   ]
  },
  {
   "cell_type": "markdown",
   "id": "55a9b3f2-a8a0-4f0c-a9c3-41bfdb3b84a2",
   "metadata": {},
   "source": [
    "----\n",
    "### Letter segmentation"
   ]
  },
  {
   "cell_type": "code",
   "execution_count": 16,
   "id": "112c86fe-f6f8-4efe-b379-8c510d79b16a",
   "metadata": {
    "scrolled": true
   },
   "outputs": [
    {
     "name": "stdout",
     "output_type": "stream",
     "text": [
      "N:/RCORBYN/User_Data/Current_Projects/20250703_Danis/Bcl-2/Labels/\n",
      "labelled_R09_DT_060625_BCL-007.png\n",
      "labelled_R09_DT_060625_BCL-006.png\n",
      "labelled_R09_DT_060625_BCL-021.png\n",
      "labelled_R09_DT_060625_BCL-002.png\n",
      "labelled_R09_DT_060625_BCL-019.png\n",
      "labelled_R09_DT_060625_BCL-016.png\n",
      "labelled_R09_DT_060625_BCL-023.png\n",
      "labelled_R09_DT_060625_BCL-022.png\n",
      "labelled_R09_DT_060625_BCL-003.png\n",
      "labelled_R09_DT_060625_BCL-027.png\n",
      "labelled_R09_DT_060625_BCL-004.png\n",
      "labelled_R09_DT_060625_BCL-025.png\n",
      "labelled_R09_DT_060625_BCL-014.png\n",
      "labelled_R09_DT_060625_BCL-015.png\n",
      "labelled_R09_DT_060625_BCL-001.png\n",
      "labelled_R09_DT_060625_BCL-018.png\n",
      "labelled_R09_DT_060625_BCL-009.png\n",
      "labelled_R09_DT_060625_BCL-008.png\n",
      "labelled_R09_DT_060625_BCL-020.png\n",
      "labelled_R09_DT_060625_BCL-028.png\n",
      "labelled_R09_DT_060625_BCL.png\n",
      "labelled_R09_DT_060625_BCL-011.png\n",
      "labelled_R09_DT_060625_BCL-005.png\n",
      "labelled_R09_DT_060625_BCL-024.png\n",
      "labelled_R09_DT_060625_BCL-010.png\n",
      "labelled_R09_DT_060625_BCL-012.png\n",
      "labelled_R09_DT_060625_BCL-026.png\n",
      "labelled_R09_DT_060625_BCL-017.png\n",
      "labelled_R09_DT_060625_BCL-013.png\n"
     ]
    }
   ],
   "source": [
    "# Initalise\n",
    "results = []\n",
    "files[0]\n",
    "save_loc = folder + '/Labels/'\n",
    "if os.path.exists(save_loc) == False: \n",
    "    os.makedirs(save_loc)\n",
    "\n",
    "print(save_loc)\n",
    "\n",
    "for file in files:\n",
    "    #\n",
    "    if file[-4:] == '.png':\n",
    "        print(os.path.basename(file))\n",
    "        # Open up the image\n",
    "        rgba_image = Image.open( file)\n",
    "        im_data = rgba_image.convert('RGB')\n",
    "        # Reduce the image to the lowest \n",
    "        # number of dimensions. \n",
    "        im_data = np.array(im_data)\n",
    "        #######\n",
    "        # Perform edge detection\n",
    "        edges = skimage.filters.sobel( np.sum(im_data, axis = 2) )\n",
    "        \n",
    "        #####\n",
    "        # Threshold the image to remove most of the \n",
    "        # unimportant information from the image.\n",
    "        \n",
    "        # Find the threshold values\n",
    "        threshold_val = skimage.filters.threshold_otsu(edges)\n",
    "        edges[edges < threshold_val] = 0\n",
    "        \n",
    "        # Fill the binary masks of the letters\n",
    "        fill_string = scipy.ndimage.binary_fill_holes(edges)\n",
    "        \n",
    "        # Invert the image and multiply by the letter\n",
    "        # mask to get only the letters in the image. \n",
    "        invert = fill_string * skimage.util.invert( im_data[:, :, 0] )\n",
    "        #####\n",
    "        # Create a binary image from the inverted letters\n",
    "        binary = np.array(invert)\n",
    "        binary[binary>0] = 1\n",
    "        \n",
    "        # create labels from the binary image. \n",
    "        labels = skimage.measure.label(binary)\n",
    "        \n",
    "        # Get properties of the letters and remaining masks. \n",
    "        region_props = pd.DataFrame( skimage.measure.regionprops_table(\n",
    "                        labels, properties = {'label', 'area', \n",
    "                        'axis_minor_length', 'axis_major_length'}) )\n",
    "        \n",
    "        # Create a mask of zeros\n",
    "        filtered_image = np.zeros(im_data.shape)\n",
    "        \n",
    "        # Loop around all labels. \n",
    "        for i in range(region_props.shape[0]): \n",
    "            # Find the positon of mask i in the label image. \n",
    "            mask_pos = np.where(labels == region_props['label'].iloc[i])\n",
    "            # Find the maximum and minimum height and width of the masks. \n",
    "            delta_x = np.abs( np.min(mask_pos[0]) - np.max(mask_pos[0]) ) \n",
    "            delta_y = np.abs( np.min(mask_pos[1]) - np.max(mask_pos[1]) ) \n",
    "            # If the mask is too long or high, remove \n",
    "            # Also remove if the area is too small. \n",
    "            if delta_x  <= 75 and delta_y <= 75 and region_props['area'].iloc[i] > 250: \n",
    "                # keep the mask. \n",
    "                filtered_image[mask_pos[0], mask_pos[1]] = skimage.util.invert(\n",
    "                                            im_data[mask_pos[0], mask_pos[1], :] )\n",
    "            \n",
    "        filtered_image = np.array(filtered_image, dtype = 'uint8')\n",
    "        \n",
    "        filtered_image[filtered_image>150] = 255\n",
    "        filtered_image[filtered_image<150] = 0\n",
    "\n",
    "        tf.imwrite(save_loc + os.path.basename(file[0:-4]) + '_label.png', filtered_image)"
   ]
  },
  {
   "cell_type": "code",
   "execution_count": 10,
   "id": "5214e84f-8ebc-43aa-8325-3479c55bd914",
   "metadata": {},
   "outputs": [
    {
     "data": {
      "text/plain": [
       "'//data.beatson.gla.ac.uk/data/RCORBYN/User_Data/Current_Projects/20250703_Danis/Bcl-2/work/Labels/labelled_R09_DT_060625_BCL-013.png'"
      ]
     },
     "execution_count": 10,
     "metadata": {},
     "output_type": "execute_result"
    }
   ],
   "source": [
    "save_loc + os.path.basename(file)"
   ]
  },
  {
   "cell_type": "code",
   "execution_count": null,
   "id": "83a06e09-0fe5-4dca-96c7-cfed7d138f44",
   "metadata": {},
   "outputs": [],
   "source": []
  }
 ],
 "metadata": {
  "kernelspec": {
   "display_name": "Python 3 (ipykernel)",
   "language": "python",
   "name": "python3"
  },
  "language_info": {
   "codemirror_mode": {
    "name": "ipython",
    "version": 3
   },
   "file_extension": ".py",
   "mimetype": "text/x-python",
   "name": "python",
   "nbconvert_exporter": "python",
   "pygments_lexer": "ipython3",
   "version": "3.11.13"
  }
 },
 "nbformat": 4,
 "nbformat_minor": 5
}
