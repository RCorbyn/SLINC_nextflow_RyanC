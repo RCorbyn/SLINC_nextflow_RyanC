{
 "cells": [
  {
   "cell_type": "markdown",
   "id": "a5da63d6-8006-4e56-b469-1bea903a03fc",
   "metadata": {},
   "source": [
    "# Batch Slide label cropping"
   ]
  },
  {
   "cell_type": "markdown",
   "id": "5bb43e70-c719-467d-a4d1-dea773a79e33",
   "metadata": {},
   "source": [
    "----\n",
    "### Import dependancies"
   ]
  },
  {
   "cell_type": "code",
   "execution_count": 1,
   "id": "4e4a0b7d-67f1-4816-a32e-3db46933d3c2",
   "metadata": {},
   "outputs": [],
   "source": [
    "import pytesseract as pytess\n",
    "import numpy as np \n",
    "import skimage \n",
    "import scipy \n",
    "import aicsimageio\n",
    "import os \n",
    "import tifffile as tf\n",
    "from PIL import Image\n",
    "import tkinter as tk \n",
    "import pandas as pd\n",
    "import matplotlib.pyplot as plt\n",
    "from tkinter import filedialog"
   ]
  },
  {
   "cell_type": "code",
   "execution_count": 2,
   "id": "d0abbd76-9bd6-43d8-8d61-65f93bf6a2c8",
   "metadata": {},
   "outputs": [],
   "source": [
    "pytess.pytesseract.tesseract_cmd = r'C:/Users/rcorbyn/AppData/Local/Programs/Tesseract-OCR/tesseract.exe'"
   ]
  },
  {
   "cell_type": "markdown",
   "id": "cc3d625b-91b2-4076-b0f9-8eb5dc2f29ae",
   "metadata": {},
   "source": [
    "---- \n",
    "### Get all files"
   ]
  },
  {
   "cell_type": "code",
   "execution_count": 3,
   "id": "6526c1aa-41ac-4160-bccf-86c8419ef8da",
   "metadata": {},
   "outputs": [],
   "source": [
    "def get_files(im_folders):\n",
    "    ''' '''\n",
    "\n",
    "    # initalise \n",
    "    im_files = []\n",
    "    #\n",
    "    for root, folders, files in os.walk(im_folders):\n",
    "        for file in files:\n",
    "            if file[-4:] == '.png': \n",
    "                im_files.append(root + '/' +file)\n",
    "\n",
    "    return(im_files)"
   ]
  },
  {
   "cell_type": "markdown",
   "id": "813a5958-b8d7-4d6f-a505-d31dc8d7e0a8",
   "metadata": {},
   "source": [
    "----\n",
    "### Get slide image"
   ]
  },
  {
   "cell_type": "code",
   "execution_count": 4,
   "id": "15b0a069-04e4-4df2-aafd-5aab3d6d9d59",
   "metadata": {},
   "outputs": [
    {
     "name": "stdout",
     "output_type": "stream",
     "text": [
      "//data.beatson.gla.ac.uk/data/RCORBYN/User_Data/Current_Projects/20241118_PlateScanner/work\\37\\a1e5fe5763ed9211188f9bf43f9329/labelled_R09_DT_060625_GS-006.png\n",
      "//data.beatson.gla.ac.uk/data/RCORBYN/User_Data/Current_Projects/20241118_PlateScanner/work\\f0\\516e8749f9335a1ebbd1ce49e8d0fa/labelled_R09_DT_060625_GS-005.png\n",
      "//data.beatson.gla.ac.uk/data/RCORBYN/User_Data/Current_Projects/20241118_PlateScanner/work\\4d\\bef3818e8a27006b1fe0206bbbb59f/labelled_R09_DT_060625_GS-008.png\n",
      "//data.beatson.gla.ac.uk/data/RCORBYN/User_Data/Current_Projects/20241118_PlateScanner/work\\64\\6005613c9ef426db50b54978367348/labelled_R09_DT_060625_GS-019.png\n",
      "//data.beatson.gla.ac.uk/data/RCORBYN/User_Data/Current_Projects/20241118_PlateScanner/work\\64\\53daf1dbf67ff846c3d1b0f53383f4/labelled_R09_DT_060625_GS-013.png\n",
      "//data.beatson.gla.ac.uk/data/RCORBYN/User_Data/Current_Projects/20241118_PlateScanner/work\\64\\c194664c7e3c23e17944e415649abf/labelled_R09_DT_060625_GS-016.png\n",
      "//data.beatson.gla.ac.uk/data/RCORBYN/User_Data/Current_Projects/20241118_PlateScanner/work\\3c\\418c9ac59851a6b8340124d15ad6c0/labelled_R09_DT_060625_GS.png\n",
      "//data.beatson.gla.ac.uk/data/RCORBYN/User_Data/Current_Projects/20241118_PlateScanner/work\\3b\\0e9d4c6444fce043f5f100a3fdb3c8/labelled_R09_DT_060625_GS-014.png\n",
      "//data.beatson.gla.ac.uk/data/RCORBYN/User_Data/Current_Projects/20241118_PlateScanner/work\\87\\597a996b00f97994389ecd6757d05a/labelled_R09_DT_060625_GS-010.png\n",
      "//data.beatson.gla.ac.uk/data/RCORBYN/User_Data/Current_Projects/20241118_PlateScanner/work\\8c\\e43eeac72239eda7cb8fae1849390f/labelled_R09_DT_060625_GS-025.png\n",
      "//data.beatson.gla.ac.uk/data/RCORBYN/User_Data/Current_Projects/20241118_PlateScanner/work\\ce\\f8ebb1423ceffe7560761b769cdcaa/labelled_R09_DT_060625_GS-018.png\n",
      "//data.beatson.gla.ac.uk/data/RCORBYN/User_Data/Current_Projects/20241118_PlateScanner/work\\79\\928bdfef347b8e7da71e92b46e9b4e/labelled_R09_DT_060625_GS-022.png\n",
      "//data.beatson.gla.ac.uk/data/RCORBYN/User_Data/Current_Projects/20241118_PlateScanner/work\\d5\\f789cde85499b5f9dbc964edc5fd7f/labelled_R09_DT_060625_GS-001.png\n",
      "//data.beatson.gla.ac.uk/data/RCORBYN/User_Data/Current_Projects/20241118_PlateScanner/work\\e2\\91b3b9e003847c6b40bfe22042cd7f/labelled_R09_DT_060625_GS-026.png\n",
      "//data.beatson.gla.ac.uk/data/RCORBYN/User_Data/Current_Projects/20241118_PlateScanner/work\\e2\\fa77b483b58758f5dd41a6c85a5e62/labelled_R09_DT_060625_GS-028.png\n",
      "//data.beatson.gla.ac.uk/data/RCORBYN/User_Data/Current_Projects/20241118_PlateScanner/work\\40\\7094045e6856d0ab10ae092f99bac7/labelled_R09_DT_060625_GS-015.png\n",
      "//data.beatson.gla.ac.uk/data/RCORBYN/User_Data/Current_Projects/20241118_PlateScanner/work\\13\\88aad8ac57d4954f6cecf907cd6a11/labelled_R09_DT_060625_GS-021.png\n",
      "//data.beatson.gla.ac.uk/data/RCORBYN/User_Data/Current_Projects/20241118_PlateScanner/work\\16\\4ea820c18461d315f573ff4eed4594/labelled_R09_DT_060625_GS-012.png\n",
      "//data.beatson.gla.ac.uk/data/RCORBYN/User_Data/Current_Projects/20241118_PlateScanner/work\\06\\f01fd84fb9f001a0e83a435759e7bf/labelled_R09_DT_060625_GS-023.png\n",
      "//data.beatson.gla.ac.uk/data/RCORBYN/User_Data/Current_Projects/20241118_PlateScanner/work\\59\\7aec46a8615d2ffabc440c220dd339/labelled_R09_DT_060625_GS-027.png\n",
      "//data.beatson.gla.ac.uk/data/RCORBYN/User_Data/Current_Projects/20241118_PlateScanner/work\\6b\\2fb3957f3d589e3849ef27c46d32ee/labelled_R09_DT_060625_GS-007.png\n",
      "//data.beatson.gla.ac.uk/data/RCORBYN/User_Data/Current_Projects/20241118_PlateScanner/work\\af\\3f1f341ce406aa089fdc59bfc3bd91/labelled_R09_DT_060625_GS-020.png\n",
      "//data.beatson.gla.ac.uk/data/RCORBYN/User_Data/Current_Projects/20241118_PlateScanner/work\\45\\4c35d83d78df3a529e8417af3aed5e/labelled_R09_DT_060625_GS-004.png\n",
      "//data.beatson.gla.ac.uk/data/RCORBYN/User_Data/Current_Projects/20241118_PlateScanner/work\\fb\\b0ed4e342c6c6fbbe71f9742de935d/labelled_R09_DT_060625_GS-011.png\n",
      "//data.beatson.gla.ac.uk/data/RCORBYN/User_Data/Current_Projects/20241118_PlateScanner/work\\cf\\99b22df09ba38d5b4e7c0061dce1bf/labelled_R09_DT_060625_GS-002.png\n",
      "//data.beatson.gla.ac.uk/data/RCORBYN/User_Data/Current_Projects/20241118_PlateScanner/work\\d8\\e4c4cbd131b289870e022be7b37ad8/labelled_R09_DT_060625_GS-017.png\n",
      "//data.beatson.gla.ac.uk/data/RCORBYN/User_Data/Current_Projects/20241118_PlateScanner/work\\10\\8396899f15461662e3109791848b31/labelled_R09_DT_060625_GS-009.png\n",
      "//data.beatson.gla.ac.uk/data/RCORBYN/User_Data/Current_Projects/20241118_PlateScanner/work\\75\\9e9c4665c66f658bcaf485661d7f09/labelled_R09_DT_060625_GS-024.png\n",
      "//data.beatson.gla.ac.uk/data/RCORBYN/User_Data/Current_Projects/20241118_PlateScanner/work\\eb\\9a123f7efee1b8c443fae53863e80b/labelled_R09_DT_060625_GS-003.png\n"
     ]
    }
   ],
   "source": [
    "# # # Creates dialogue to ask directory\n",
    "# # # Get the folder containing the image stack. \n",
    "root = tk.Tk()\n",
    "root.attributes('-topmost', True)\n",
    "root.withdraw() # Stops a second window opening\n",
    "folder = filedialog.askdirectory(title = 'Select Stack file')\n",
    "\n",
    "files = get_files(folder) \n",
    "\n",
    "for i in range( len(files) ):\n",
    "    print(files[i])"
   ]
  },
  {
   "cell_type": "markdown",
   "id": "55a9b3f2-a8a0-4f0c-a9c3-41bfdb3b84a2",
   "metadata": {},
   "source": [
    "----\n",
    "### Letter segmentation"
   ]
  },
  {
   "cell_type": "code",
   "execution_count": 5,
   "id": "112c86fe-f6f8-4efe-b379-8c510d79b16a",
   "metadata": {
    "scrolled": true
   },
   "outputs": [
    {
     "name": "stdout",
     "output_type": "stream",
     "text": [
      "labelled_R09_DT_060625_GS-019\n",
      "SM_ROg_25x_522_\n",
      "\n"
     ]
    }
   ],
   "source": [
    "results = []\n",
    "\n",
    "for file in files:\n",
    "    ####\n",
    "    if os.path.basename(file) == 'labelled_R09_DT_060625_GS-019.png':\n",
    "        if file[-4:] == '.png':\n",
    "            # Open up the image\n",
    "            rgba_image = Image.open( file)\n",
    "            im_data = rgba_image.convert('RGB')\n",
    "            # Reduce the image to the lowest \n",
    "            # number of dimensions. \n",
    "            im_data = np.array(im_data)\n",
    "            \n",
    "            #######\n",
    "            # Perform edge detection\n",
    "            edges = skimage.filters.sobel( np.sum(im_data, axis = 2) )\n",
    "            \n",
    "            #####\n",
    "            # Threshold the image to remove most of the \n",
    "            # unimportant information from the image.\n",
    "            \n",
    "            # Find the threshold values\n",
    "            threshold_val = skimage.filters.threshold_otsu(edges)\n",
    "            edges[edges < threshold_val] = 0\n",
    "            \n",
    "            # Fill the binary masks of the letters\n",
    "            fill_string = scipy.ndimage.binary_fill_holes(edges)\n",
    "            \n",
    "            # Invert the image and multiply by the letter\n",
    "            # mask to get only the letters in the image. \n",
    "            invert = fill_string * skimage.util.invert( im_data[:, :, 0] )\n",
    "            #####\n",
    "            # Create a binary image from the inverted letters\n",
    "            binary = np.array(invert)\n",
    "            binary[binary>0] = 1\n",
    "            \n",
    "            # create labels from the binary image. \n",
    "            labels = skimage.measure.label(binary)\n",
    "            \n",
    "            # Get properties of the letters and remaining masks. \n",
    "            region_props = pd.DataFrame( skimage.measure.regionprops_table(\n",
    "                            labels, properties = {'label', 'area', \n",
    "                            'axis_minor_length', 'axis_major_length'}) )\n",
    "            \n",
    "            # Create a mask of zeros\n",
    "            filtered_image = np.zeros(im_data.shape)\n",
    "            \n",
    "            # Loop around all labels. \n",
    "            for i in range(region_props.shape[0]): \n",
    "                # Find the positon of mask i in the label image. \n",
    "                mask_pos = np.where(labels == region_props['label'].iloc[i])\n",
    "                # Find the maximum and minimum height and width of the masks. \n",
    "                delta_x = np.abs( np.min(mask_pos[0]) - np.max(mask_pos[0]) ) \n",
    "                delta_y = np.abs( np.min(mask_pos[1]) - np.max(mask_pos[1]) ) \n",
    "                # If the mask is too long or high, remove \n",
    "                # Also remove if the area is too small. \n",
    "                if delta_x  <= 75 and delta_y <= 75 and region_props['area'].iloc[i] > 100: \n",
    "                    # keep the mask. \n",
    "                    filtered_image[mask_pos[0], mask_pos[1]] = skimage.util.invert(\n",
    "                                                im_data[mask_pos[0], mask_pos[1], :] )\n",
    "                \n",
    "            filtered_image = np.array(filtered_image, dtype = 'uint8')\n",
    "            \n",
    "            filtered_image[filtered_image>150] = 255\n",
    "            filtered_image[filtered_image<150] = 0\n",
    "    \n",
    "            tf.imwrite('//data.beatson.gla.ac.uk/data/RCORBYN/User_Data/Current_Projects/20241118_PlateScanner/20250731_Labelled_im/' + \n",
    "                      os.path.basename(file[0:-4]) + '_filtered.png', filtered_image)\n",
    "            \n",
    "            text = pytess.image_to_string(filtered_image)\n",
    "        \n",
    "            text = text.replace( chr(10), '_' )\n",
    "            text = text.replace( ' ' , '_' )\n",
    "            text = text.replace( '/', '_' )\n",
    "            text = text.replace('colorslide', '')\n",
    "            text = text.replace('=', '')\n",
    "    \n",
    "            results.append(text)\n",
    "            print(os.path.basename(file[0:-4])) \n",
    "            print( text + '\\n') \n",
    "\n",
    "dictionary = {'Original File Name': np.array(file), \n",
    "              'Ryans OCR Code rename': np.array(results)}\n",
    "\n",
    "results_df = pd.DataFrame(dictionary)\n",
    "\n",
    "# results_df.to_excel('//data.beatson.gla.ac.uk/data/RCORBYN/User_Data/Current_Projects/20250703_Danis/Danis slides for relabelling/' + \n",
    "#                    'OCR_rename_test.xlsx')"
   ]
  },
  {
   "cell_type": "code",
   "execution_count": 112,
   "id": "f37ab480-bdaf-4a02-bfcb-d80fac4aeecc",
   "metadata": {
    "scrolled": true
   },
   "outputs": [
    {
     "name": "stdout",
     "output_type": "stream",
     "text": [
      "    label  centroid-0  centroid-1    area\n",
      "0       1  209.852174  178.831522   920.0\n",
      "1       4  211.985629  226.397605   835.0\n",
      "3      10  228.257919  482.479638   221.0\n",
      "4      11  230.279528  508.816929   508.0\n",
      "2       7  234.174286  454.377143   350.0\n",
      "5      20  266.459807  177.383708   933.0\n",
      "6      24  273.200206  223.814241   969.0\n",
      "10     31  275.822368  416.111842   456.0\n",
      "7      26  276.425488  268.529291   973.0\n",
      "8      27  279.723308  313.190977   665.0\n",
      "9      29  281.639105  366.576848  1028.0\n",
      "11     47  321.163823  173.612059   879.0\n",
      "12     49  327.483559  225.852998  1034.0\n",
      "13     51  333.913551  279.453271   856.0\n",
      "14     53  334.132716  326.245370   648.0\n",
      "16     57  337.188552  414.727273   297.0\n",
      "15     55  338.611018  362.799666   599.0\n",
      "17     59  349.481250  450.278125   640.0\n",
      "19     70  389.216949  199.793220   295.0\n",
      "18     69  391.963082  164.768860   623.0\n",
      "21     72  392.269360  254.484848   297.0\n",
      "20     71  395.049296  227.302817   142.0\n",
      "22     73  397.021711  290.893997   783.0\n",
      "23     74  399.462799  327.316520   793.0\n",
      "25     77  402.455479  400.267123   292.0\n",
      "24     76  402.639110  364.111288   629.0\n",
      "26     94  453.470219  160.515674   638.0\n",
      "27     95  455.950064  202.764405   781.0\n",
      "28     98  457.140903  263.518468   731.0\n",
      "29     99  462.753650  301.242701   548.0\n",
      "30    100  464.817896  333.662480   637.0\n",
      "31    102  473.916844  422.716418   469.0\n",
      "32    104  474.330537  455.255034   596.0\n",
      "34    108  479.466775  530.482982   617.0\n",
      "33    107  481.362851  490.488121   463.0\n",
      "35    113  482.931373  562.941176   510.0\n",
      "36    116  485.554054  595.388031   518.0\n",
      "(37, 4)\n"
     ]
    },
    {
     "data": {
      "image/png": "[encoded data removed]",
      "text/plain": [
       "<Figure size 640x480 with 1 Axes>"
      ]
     },
     "metadata": {},
     "output_type": "display_data"
    }
   ],
   "source": [
    "# plt.imshow(filtered_image)\n",
    "letters = skimage.measure.label(filtered_image[:, :, 0])\n",
    "\n",
    "props = ['label', 'centroid','area']\n",
    "letter_props = pd.DataFrame(skimage.measure.regionprops_table(letters, properties = props))\n",
    "\n",
    "letter_mask = np.zeros((filtered_image.shape[0], filtered_image.shape[1]))\n",
    "\n",
    "for i in range(letter_props.shape[0]): \n",
    "    # \n",
    "    if int(letter_props['area'].iloc[i]) > 50: \n",
    "        #\n",
    "        letter_loc = np.where(letters == letter_props['label'].iloc[i])\n",
    "        # \n",
    "        letter_mask[letter_loc[0], letter_loc[1]] = letters[letter_loc[0], letter_loc[1]]\n",
    "\n",
    "letter_mask = np.array(letter_mask, dtype =int)\n",
    "\n",
    "letter_props = pd.DataFrame(skimage.measure.regionprops_table(letter_mask, properties = props))\n",
    "letter_props = letter_props.sort_values(['centroid-0', 'centroid-1'])\n",
    "\n",
    "print(letter_props)\n",
    "print(letter_props.shape)\n",
    "\n",
    "letter_mask[letter_mask > 0] = 1\n",
    "\n",
    "plt.imshow(letter_mask, alpha = 0.5)\n",
    "\n",
    "for i in range( four_corners.shape[0] ): \n",
    "    plt.scatter(four_corners[i, 0], four_corners[i, 1])\n",
    "\n",
    "    ## Have a repeat value need to get bottom left correct. "
   ]
  },
  {
   "cell_type": "code",
   "execution_count": 109,
   "id": "ed4c2159-7d0d-4202-8980-dbbc4d7214c7",
   "metadata": {},
   "outputs": [],
   "source": [
    "def corners_of_text(letter_properties):\n",
    "    ''' '''\n",
    "    # Format data\n",
    "    letter_properties = letter_properties.sort_values(['centroid-0', 'centroid-1'])\n",
    "    \n",
    "    # Get the co-ordinates for the top left. \n",
    "    top_left = np.array([letter_properties['centroid-1'].iloc[0], \n",
    "                letter_properties['centroid-0'].iloc[0]])\n",
    "\n",
    "    # Get the co-ordinated for the bottom right. \n",
    "    bot_right = np.array([letter_properties['centroid-1'].iloc[-1], \n",
    "                letter_properties['centroid-0'].iloc[-1]])\n",
    "\n",
    "    # Filter values to find top right \n",
    "    tr_filter = letter_properties[letter_properties['centroid-0'] < letter_properties['centroid-0'].iloc[0] + 50]\n",
    "    # Find largest centroid-1 value \n",
    "    find_biggest_tr = np.where( tr_filter['centroid-1'] ==  np.max( tr_filter['centroid-1'] ) )[0][0]\n",
    "    # Get the top  \n",
    "    tr = np.array([tr_filter['centroid-1'].iloc[find_biggest_tr], \n",
    "         tr_filter['centroid-0'].iloc[find_biggest_tr]])\n",
    "\n",
    "    # Filter values to find bottom left\n",
    "    bl_filter = letter_properties[letter_properties['centroid-1'] > letter_properties['centroid-1'].iloc[-1] - 50]\n",
    "    # Find largest centroid-1 value \n",
    "    find_biggest_bl = np.where( bl_filter['centroid-0'] ==  np.max( bl_filter['centroid-0'] ) )[0][0]\n",
    "    # Get the top  \n",
    "    bl = np.array([bl_filter['centroid-1'].iloc[find_biggest_bl], \n",
    "         bl_filter['centroid-0'].iloc[find_biggest_bl]])\n",
    "\n",
    "    four_corners = [top_left, bot_right, tr, bl]\n",
    "    \n",
    "    return(four_corners)"
   ]
  },
  {
   "cell_type": "code",
   "execution_count": 110,
   "id": "91b132c4-f6a7-465e-9990-9a564f3eda0d",
   "metadata": {},
   "outputs": [
    {
     "data": {
      "text/plain": [
       "[array([178.83152174, 209.85217391]),\n",
       " array([595.38803089, 485.55405405]),\n",
       " array([508.81692913, 230.27952756]),\n",
       " array([595.38803089, 485.55405405])]"
      ]
     },
     "execution_count": 110,
     "metadata": {},
     "output_type": "execute_result"
    }
   ],
   "source": [
    "corners_of_text(letter_props)"
   ]
  },
  {
   "cell_type": "code",
   "execution_count": 104,
   "id": "a4c0f54c-a265-409c-85ec-2041fb7f0995",
   "metadata": {},
   "outputs": [
    {
     "name": "stderr",
     "output_type": "stream",
     "text": [
      "C:\\Users\\rcorbyn\\AppData\\Local\\Temp\\ipykernel_10460\\3605224578.py:17: FutureWarning: Calling int on a single element Series is deprecated and will raise a TypeError in the future. Use int(ser.iloc[0]) instead\n",
      "  tr = [int(tr_filter['centroid-1'].iloc[find_biggest_tr]),\n",
      "C:\\Users\\rcorbyn\\AppData\\Local\\Temp\\ipykernel_10460\\3605224578.py:18: FutureWarning: Calling int on a single element Series is deprecated and will raise a TypeError in the future. Use int(ser.iloc[0]) instead\n",
      "  int(tr_filter['centroid-0'].iloc[find_biggest_tr])]\n",
      "C:\\Users\\rcorbyn\\AppData\\Local\\Temp\\ipykernel_10460\\3605224578.py:25: FutureWarning: Calling int on a single element Series is deprecated and will raise a TypeError in the future. Use int(ser.iloc[0]) instead\n",
      "  bl = [int(bl_filter['centroid-1'].iloc[find_biggest_bl]),\n",
      "C:\\Users\\rcorbyn\\AppData\\Local\\Temp\\ipykernel_10460\\3605224578.py:26: FutureWarning: Calling int on a single element Series is deprecated and will raise a TypeError in the future. Use int(ser.iloc[0]) instead\n",
      "  int(bl_filter['centroid-0'].iloc[find_biggest_bl])]\n"
     ]
    }
   ],
   "source": [
    "# Format data\n",
    "letter_properties = letter_props.sort_values(['centroid-0', 'centroid-1'])\n",
    "\n",
    "# Get the co-ordinates for the top left. \n",
    "top_left = [int(letter_props['centroid-1'].iloc[0]), \n",
    "            int(letter_props['centroid-0'].iloc[0])]\n",
    "\n",
    "# Get the co-ordinated for the bottom right. \n",
    "bot_right = [int(letter_props['centroid-1'].iloc[-1]), \n",
    "            int(letter_props['centroid-0'].iloc[-1])]\n",
    "\n",
    "# Filter values to find top right \n",
    "tr_filter = letter_props[letter_props['centroid-0'] < letter_props['centroid-0'].iloc[0] + 50]\n",
    "# Find largest centroid-1 value \n",
    "find_biggest_tr = np.where( tr_filter['centroid-1'] ==  np.max( tr_filter['centroid-1'] ) )[0]\n",
    "# Get the top  \n",
    "tr = [int(tr_filter['centroid-1'].iloc[find_biggest_tr]), \n",
    "     int(tr_filter['centroid-0'].iloc[find_biggest_tr])]\n",
    "\n",
    "# Filter values to find bottom left\n",
    "bl_filter = letter_props[letter_props['centroid-0'] > letter_props['centroid-0'].iloc[-1] - 50]\n",
    "# Find largest centroid-1 value \n",
    "find_biggest_bl = np.where( bl_filter['centroid-1'] ==  np.max( bl_filter['centroid-1'] ) )[0]\n",
    "# Get the top  \n",
    "bl = [int(bl_filter['centroid-1'].iloc[find_biggest_bl]), \n",
    "     int(bl_filter['centroid-0'].iloc[find_biggest_bl])]\n",
    "\n",
    "four_corners = np.array([top_left, bot_right, tr, bl])"
   ]
  },
  {
   "cell_type": "code",
   "execution_count": 105,
   "id": "7b93e622-26aa-4d48-ba74-7ba085130495",
   "metadata": {},
   "outputs": [
    {
     "data": {
      "text/plain": [
       "array([[178, 209],\n",
       "       [595, 485],\n",
       "       [508, 230],\n",
       "       [595, 485]])"
      ]
     },
     "execution_count": 105,
     "metadata": {},
     "output_type": "execute_result"
    }
   ],
   "source": [
    "four_corners"
   ]
  },
  {
   "cell_type": "code",
   "execution_count": 71,
   "id": "bada895e-d9eb-402b-b0dd-bc17be2c2b3c",
   "metadata": {},
   "outputs": [
    {
     "data": {
      "text/plain": [
       "array([[508.81692913],\n",
       "       [230.27952756]])"
      ]
     },
     "execution_count": 71,
     "metadata": {},
     "output_type": "execute_result"
    }
   ],
   "source": []
  },
  {
   "cell_type": "code",
   "execution_count": null,
   "id": "9a4dc642-2fe3-470f-94e3-1805494a63ba",
   "metadata": {},
   "outputs": [],
   "source": []
  }
 ],
 "metadata": {
  "kernelspec": {
   "display_name": "Python 3 (ipykernel)",
   "language": "python",
   "name": "python3"
  },
  "language_info": {
   "codemirror_mode": {
    "name": "ipython",
    "version": 3
   },
   "file_extension": ".py",
   "mimetype": "text/x-python",
   "name": "python",
   "nbconvert_exporter": "python",
   "pygments_lexer": "ipython3",
   "version": "3.11.13"
  }
 },
 "nbformat": 4,
 "nbformat_minor": 5
}
